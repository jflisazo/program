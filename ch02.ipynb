{
 "cells": [
  {
   "cell_type": "code",
   "execution_count": 1,
   "id": "0dbb8c9e-a8cf-45fd-a144-32bb30d61202",
   "metadata": {},
   "outputs": [
    {
     "name": "stdout",
     "output_type": "stream",
     "text": [
      "1 1 2 3 5 8 13 21 34 55 89 144 233 377 610 987 1597 2584 4181 6765 10946 17711 28657 46368 75025 121393 196418 317811 514229 832040 1346269 "
     ]
    }
   ],
   "source": [
    "a, b = 0, 1\n",
    "while b < 2000000:\n",
    "    print(b, end=' ')\n",
    "    a, b = b, a+b"
   ]
  },
  {
   "cell_type": "code",
   "execution_count": 2,
   "id": "3e2a5bac-1d37-42d1-b50b-64524427ec8f",
   "metadata": {},
   "outputs": [
    {
     "name": "stdout",
     "output_type": "stream",
     "text": [
      "1 1 2 3 5 8 13 21 34 55 89 144 233 377 610 987 1597 2584 4181 6765 10946 17711 28657 46368 75025 121393 196418 317811 514229 832040 1346269 2178309 3524578 5702887 9227465 14930352 "
     ]
    }
   ],
   "source": [
    "a, b = 0, 1\n",
    "while b < 20000000:\n",
    "    print(b, end=' ')\n",
    "    a, b = b, a+b\n"
   ]
  },
  {
   "cell_type": "code",
   "execution_count": 3,
   "id": "2c860f9c",
   "metadata": {},
   "outputs": [
    {
     "data": {
      "text/plain": [
       "4"
      ]
     },
     "execution_count": 3,
     "metadata": {},
     "output_type": "execute_result"
    }
   ],
   "source": [
    "2+2\n"
   ]
  },
  {
   "cell_type": "code",
   "execution_count": 4,
   "id": "e3dd70bd",
   "metadata": {},
   "outputs": [],
   "source": [
    "import numpy as np\n",
    "\n",
    "array = np.array(range(10))\n"
   ]
  },
  {
   "cell_type": "code",
   "execution_count": 5,
   "id": "13e06b26",
   "metadata": {},
   "outputs": [
    {
     "data": {
      "text/plain": [
       "array([0, 1, 2, 3, 4, 5, 6, 7, 8, 9])"
      ]
     },
     "execution_count": 5,
     "metadata": {},
     "output_type": "execute_result"
    }
   ],
   "source": [
    "array"
   ]
  },
  {
   "cell_type": "code",
   "execution_count": 6,
   "id": "8677133c",
   "metadata": {},
   "outputs": [],
   "source": [
    "array1 = np.array(range(100))"
   ]
  },
  {
   "cell_type": "code",
   "execution_count": 7,
   "id": "20db5d2e",
   "metadata": {},
   "outputs": [
    {
     "data": {
      "text/plain": [
       "array([ 0,  1,  2,  3,  4,  5,  6,  7,  8,  9, 10, 11, 12, 13, 14, 15, 16,\n",
       "       17, 18, 19, 20, 21, 22, 23, 24, 25, 26, 27, 28, 29, 30, 31, 32, 33,\n",
       "       34, 35, 36, 37, 38, 39, 40, 41, 42, 43, 44, 45, 46, 47, 48, 49, 50,\n",
       "       51, 52, 53, 54, 55, 56, 57, 58, 59, 60, 61, 62, 63, 64, 65, 66, 67,\n",
       "       68, 69, 70, 71, 72, 73, 74, 75, 76, 77, 78, 79, 80, 81, 82, 83, 84,\n",
       "       85, 86, 87, 88, 89, 90, 91, 92, 93, 94, 95, 96, 97, 98, 99])"
      ]
     },
     "execution_count": 7,
     "metadata": {},
     "output_type": "execute_result"
    }
   ],
   "source": [
    "array1"
   ]
  },
  {
   "cell_type": "code",
   "execution_count": 8,
   "id": "e127d6c3",
   "metadata": {},
   "outputs": [
    {
     "data": {
      "text/plain": [
       "array([  0,   2,   4,   6,   8,  10,  12,  14,  16,  18,  20,  22,  24,\n",
       "        26,  28,  30,  32,  34,  36,  38,  40,  42,  44,  46,  48,  50,\n",
       "        52,  54,  56,  58,  60,  62,  64,  66,  68,  70,  72,  74,  76,\n",
       "        78,  80,  82,  84,  86,  88,  90,  92,  94,  96,  98, 100, 102,\n",
       "       104, 106, 108, 110, 112, 114, 116, 118, 120, 122, 124, 126, 128,\n",
       "       130, 132, 134, 136, 138, 140, 142, 144, 146, 148, 150, 152, 154,\n",
       "       156, 158, 160, 162, 164, 166, 168, 170, 172, 174, 176, 178, 180,\n",
       "       182, 184, 186, 188, 190, 192, 194, 196, 198])"
      ]
     },
     "execution_count": 8,
     "metadata": {},
     "output_type": "execute_result"
    }
   ],
   "source": [
    "array1 * 2"
   ]
  },
  {
   "cell_type": "code",
   "execution_count": 9,
   "id": "a1f1b9d2",
   "metadata": {},
   "outputs": [
    {
     "name": "stdout",
     "output_type": "stream",
     "text": [
      "[0.76355323 0.52321089 0.67908924 0.84049841 0.25085747 0.60306695\n",
      " 0.21875978 0.5136784  0.63977122 0.79313216]\n"
     ]
    }
   ],
   "source": [
    "import numpy as np\n",
    "random_numbers = np.random.rand(10)\n",
    "print(random_numbers)"
   ]
  },
  {
   "cell_type": "code",
   "execution_count": 10,
   "id": "b6eab0c5",
   "metadata": {},
   "outputs": [],
   "source": [
    "data = np.array([[1.5, -0.1, 3], [0, -3, 6.5]])"
   ]
  },
  {
   "cell_type": "code",
   "execution_count": 11,
   "id": "b480bd91",
   "metadata": {},
   "outputs": [
    {
     "data": {
      "text/plain": [
       "array([[ 1.5, -0.1,  3. ],\n",
       "       [ 0. , -3. ,  6.5]])"
      ]
     },
     "execution_count": 11,
     "metadata": {},
     "output_type": "execute_result"
    }
   ],
   "source": [
    "data"
   ]
  },
  {
   "cell_type": "code",
   "execution_count": 12,
   "id": "582f7a74",
   "metadata": {},
   "outputs": [
    {
     "data": {
      "text/plain": [
       "array([[ 15.,  -1.,  30.],\n",
       "       [  0., -30.,  65.]])"
      ]
     },
     "execution_count": 12,
     "metadata": {},
     "output_type": "execute_result"
    }
   ],
   "source": [
    "data * 10"
   ]
  },
  {
   "cell_type": "code",
   "execution_count": 13,
   "id": "9bdf360e",
   "metadata": {},
   "outputs": [
    {
     "data": {
      "text/plain": [
       "array([[ 3. , -0.2,  6. ],\n",
       "       [ 0. , -6. , 13. ]])"
      ]
     },
     "execution_count": 13,
     "metadata": {},
     "output_type": "execute_result"
    }
   ],
   "source": [
    "data + data"
   ]
  },
  {
   "cell_type": "code",
   "execution_count": 14,
   "id": "35aee2c1",
   "metadata": {},
   "outputs": [],
   "source": [
    "data1 = [6, 7.5, 8, 0, 1]"
   ]
  },
  {
   "cell_type": "code",
   "execution_count": 15,
   "id": "dc2ec0a1",
   "metadata": {},
   "outputs": [],
   "source": [
    "arr1 = np.array(data1)"
   ]
  },
  {
   "cell_type": "code",
   "execution_count": 16,
   "id": "d40c8f13",
   "metadata": {},
   "outputs": [
    {
     "data": {
      "text/plain": [
       "array([6. , 7.5, 8. , 0. , 1. ])"
      ]
     },
     "execution_count": 16,
     "metadata": {},
     "output_type": "execute_result"
    }
   ],
   "source": [
    "arr1"
   ]
  },
  {
   "cell_type": "code",
   "execution_count": 17,
   "id": "a7540e68",
   "metadata": {},
   "outputs": [],
   "source": [
    "data2 = [[1, 2, 3, 4], [5, 6, 7, 8]]"
   ]
  },
  {
   "cell_type": "code",
   "execution_count": 18,
   "id": "94743ffc",
   "metadata": {},
   "outputs": [],
   "source": [
    "arr2 = np.array(data2)"
   ]
  },
  {
   "cell_type": "code",
   "execution_count": 19,
   "id": "5ad0d77f",
   "metadata": {},
   "outputs": [
    {
     "data": {
      "text/plain": [
       "array([[1, 2, 3, 4],\n",
       "       [5, 6, 7, 8]])"
      ]
     },
     "execution_count": 19,
     "metadata": {},
     "output_type": "execute_result"
    }
   ],
   "source": [
    "arr2"
   ]
  },
  {
   "cell_type": "code",
   "execution_count": 20,
   "id": "5d5c2470",
   "metadata": {},
   "outputs": [
    {
     "data": {
      "text/plain": [
       "(2, 4)"
      ]
     },
     "execution_count": 20,
     "metadata": {},
     "output_type": "execute_result"
    }
   ],
   "source": [
    "arr2.shape"
   ]
  },
  {
   "cell_type": "code",
   "execution_count": 21,
   "id": "74a5db1c",
   "metadata": {},
   "outputs": [
    {
     "data": {
      "text/plain": [
       "dtype('float64')"
      ]
     },
     "execution_count": 21,
     "metadata": {},
     "output_type": "execute_result"
    }
   ],
   "source": [
    "arr1.dtype"
   ]
  },
  {
   "cell_type": "code",
   "execution_count": 22,
   "id": "87c1c230",
   "metadata": {},
   "outputs": [
    {
     "data": {
      "text/plain": [
       "dtype('int64')"
      ]
     },
     "execution_count": 22,
     "metadata": {},
     "output_type": "execute_result"
    }
   ],
   "source": [
    "arr2.dtype"
   ]
  },
  {
   "cell_type": "code",
   "execution_count": 23,
   "id": "6463e133",
   "metadata": {},
   "outputs": [],
   "source": [
    "arr3 = np.arange(10)"
   ]
  },
  {
   "cell_type": "code",
   "execution_count": 24,
   "id": "a9fc6929",
   "metadata": {},
   "outputs": [
    {
     "data": {
      "text/plain": [
       "array([0, 1, 2, 3, 4, 5, 6, 7, 8, 9])"
      ]
     },
     "execution_count": 24,
     "metadata": {},
     "output_type": "execute_result"
    }
   ],
   "source": [
    "arr3"
   ]
  },
  {
   "cell_type": "code",
   "execution_count": 25,
   "id": "11ad881e",
   "metadata": {},
   "outputs": [
    {
     "data": {
      "text/plain": [
       "dtype('int64')"
      ]
     },
     "execution_count": 25,
     "metadata": {},
     "output_type": "execute_result"
    }
   ],
   "source": [
    "arr2.dtype"
   ]
  },
  {
   "cell_type": "code",
   "execution_count": 26,
   "id": "4450fe52",
   "metadata": {},
   "outputs": [],
   "source": [
    "floatarr2 = arr2.astype(np.float64)"
   ]
  },
  {
   "cell_type": "code",
   "execution_count": 27,
   "id": "70805807",
   "metadata": {},
   "outputs": [
    {
     "data": {
      "text/plain": [
       "dtype('float64')"
      ]
     },
     "execution_count": 27,
     "metadata": {},
     "output_type": "execute_result"
    }
   ],
   "source": [
    "floatarr2.dtype"
   ]
  },
  {
   "cell_type": "code",
   "execution_count": 28,
   "id": "84385914",
   "metadata": {},
   "outputs": [
    {
     "data": {
      "text/plain": [
       "array([[1., 2., 3., 4.],\n",
       "       [5., 6., 7., 8.]])"
      ]
     },
     "execution_count": 28,
     "metadata": {},
     "output_type": "execute_result"
    }
   ],
   "source": [
    "floatarr2"
   ]
  },
  {
   "cell_type": "code",
   "execution_count": 29,
   "id": "cebefb02",
   "metadata": {},
   "outputs": [],
   "source": [
    "arr = np.arange(10)"
   ]
  },
  {
   "cell_type": "code",
   "execution_count": 30,
   "id": "5a1391b3",
   "metadata": {},
   "outputs": [],
   "source": [
    "arr_slc = arr[5:8]"
   ]
  },
  {
   "cell_type": "code",
   "execution_count": 31,
   "id": "9543dfb0",
   "metadata": {},
   "outputs": [
    {
     "data": {
      "text/plain": [
       "array([5, 6, 7])"
      ]
     },
     "execution_count": 31,
     "metadata": {},
     "output_type": "execute_result"
    }
   ],
   "source": [
    "arr_slc"
   ]
  },
  {
   "cell_type": "code",
   "execution_count": 32,
   "id": "c40d8736",
   "metadata": {},
   "outputs": [],
   "source": [
    "arr_slc[0:2] = 12"
   ]
  },
  {
   "cell_type": "code",
   "execution_count": 33,
   "id": "77dec5b0",
   "metadata": {},
   "outputs": [
    {
     "data": {
      "text/plain": [
       "array([12, 12,  7])"
      ]
     },
     "execution_count": 33,
     "metadata": {},
     "output_type": "execute_result"
    }
   ],
   "source": [
    "arr_slc"
   ]
  },
  {
   "cell_type": "code",
   "execution_count": 34,
   "id": "a99a6b95",
   "metadata": {},
   "outputs": [],
   "source": [
    "arr_slc[0:] = 12"
   ]
  },
  {
   "cell_type": "code",
   "execution_count": 35,
   "id": "3d7f7446",
   "metadata": {},
   "outputs": [
    {
     "data": {
      "text/plain": [
       "array([12, 12, 12])"
      ]
     },
     "execution_count": 35,
     "metadata": {},
     "output_type": "execute_result"
    }
   ],
   "source": [
    "arr_slc"
   ]
  },
  {
   "cell_type": "code",
   "execution_count": 36,
   "id": "6719dce6",
   "metadata": {},
   "outputs": [
    {
     "data": {
      "text/plain": [
       "array([ 0,  1,  2,  3,  4, 12, 12, 12,  8,  9])"
      ]
     },
     "execution_count": 36,
     "metadata": {},
     "output_type": "execute_result"
    }
   ],
   "source": [
    "arr"
   ]
  },
  {
   "cell_type": "code",
   "execution_count": 37,
   "id": "934ba0eb",
   "metadata": {},
   "outputs": [],
   "source": [
    "arr_slc[1] = 12345"
   ]
  },
  {
   "cell_type": "code",
   "execution_count": 38,
   "id": "6c10e204",
   "metadata": {},
   "outputs": [
    {
     "data": {
      "text/plain": [
       "array([    0,     1,     2,     3,     4,    12, 12345,    12,     8,\n",
       "           9])"
      ]
     },
     "execution_count": 38,
     "metadata": {},
     "output_type": "execute_result"
    }
   ],
   "source": [
    "arr"
   ]
  },
  {
   "cell_type": "code",
   "execution_count": 39,
   "id": "9e3fefa8",
   "metadata": {},
   "outputs": [],
   "source": [
    "arr_slc[:] = 64"
   ]
  },
  {
   "cell_type": "code",
   "execution_count": 40,
   "id": "dd701da5",
   "metadata": {},
   "outputs": [
    {
     "data": {
      "text/plain": [
       "array([ 0,  1,  2,  3,  4, 64, 64, 64,  8,  9])"
      ]
     },
     "execution_count": 40,
     "metadata": {},
     "output_type": "execute_result"
    }
   ],
   "source": [
    "arr"
   ]
  },
  {
   "cell_type": "code",
   "execution_count": 41,
   "id": "f63fc20e",
   "metadata": {},
   "outputs": [],
   "source": [
    "import numpy as np"
   ]
  },
  {
   "cell_type": "code",
   "execution_count": 42,
   "id": "f9c3cc9c",
   "metadata": {},
   "outputs": [
    {
     "data": {
      "text/plain": [
       "array([ 0,  1,  2,  3,  4, 64, 64, 64,  8,  9])"
      ]
     },
     "execution_count": 42,
     "metadata": {},
     "output_type": "execute_result"
    }
   ],
   "source": [
    "arr"
   ]
  },
  {
   "cell_type": "code",
   "execution_count": 43,
   "id": "878eca1d",
   "metadata": {},
   "outputs": [],
   "source": [
    "arr2d = np.array([[1, 2, 3], [4, 5, 6], [7, 8, 9]])"
   ]
  },
  {
   "cell_type": "code",
   "execution_count": 44,
   "id": "bd6c8e0c",
   "metadata": {},
   "outputs": [
    {
     "data": {
      "text/plain": [
       "array([[1, 2, 3],\n",
       "       [4, 5, 6],\n",
       "       [7, 8, 9]])"
      ]
     },
     "execution_count": 44,
     "metadata": {},
     "output_type": "execute_result"
    }
   ],
   "source": [
    "arr2d"
   ]
  },
  {
   "cell_type": "code",
   "execution_count": 45,
   "id": "ee519a38",
   "metadata": {},
   "outputs": [
    {
     "data": {
      "text/plain": [
       "array([7, 8, 9])"
      ]
     },
     "execution_count": 45,
     "metadata": {},
     "output_type": "execute_result"
    }
   ],
   "source": [
    "arr2d[2]"
   ]
  },
  {
   "cell_type": "code",
   "execution_count": 46,
   "id": "6ea0a7f9",
   "metadata": {},
   "outputs": [
    {
     "data": {
      "text/plain": [
       "array([[1, 2, 3],\n",
       "       [4, 5, 6]])"
      ]
     },
     "execution_count": 46,
     "metadata": {},
     "output_type": "execute_result"
    }
   ],
   "source": [
    "arr2d[:2]"
   ]
  },
  {
   "cell_type": "code",
   "execution_count": 47,
   "id": "3d816da5",
   "metadata": {},
   "outputs": [
    {
     "data": {
      "text/plain": [
       "array([[2, 3],\n",
       "       [5, 6]])"
      ]
     },
     "execution_count": 47,
     "metadata": {},
     "output_type": "execute_result"
    }
   ],
   "source": [
    "arr2d[:2, 1:]"
   ]
  },
  {
   "cell_type": "code",
   "execution_count": 48,
   "id": "2d07ebf9",
   "metadata": {},
   "outputs": [],
   "source": [
    "names = np.array(['Bob', 'Joe', 'Will', 'Bob', 'Will', 'Joe', 'Joe'])"
   ]
  },
  {
   "cell_type": "code",
   "execution_count": 49,
   "id": "b782c346",
   "metadata": {},
   "outputs": [
    {
     "data": {
      "text/plain": [
       "array(['Bob', 'Joe', 'Will', 'Bob', 'Will', 'Joe', 'Joe'], dtype='<U4')"
      ]
     },
     "execution_count": 49,
     "metadata": {},
     "output_type": "execute_result"
    }
   ],
   "source": [
    "names"
   ]
  },
  {
   "cell_type": "code",
   "execution_count": 50,
   "id": "36c5b23b",
   "metadata": {},
   "outputs": [],
   "source": [
    "data = np.array([[4, 7], [0, 2], [-5, 6], [0, 0], [1, 2], [-12, -4], [3, 4 ]])"
   ]
  },
  {
   "cell_type": "code",
   "execution_count": 51,
   "id": "6b2f908c",
   "metadata": {},
   "outputs": [
    {
     "data": {
      "text/plain": [
       "array([[  4,   7],\n",
       "       [  0,   2],\n",
       "       [ -5,   6],\n",
       "       [  0,   0],\n",
       "       [  1,   2],\n",
       "       [-12,  -4],\n",
       "       [  3,   4]])"
      ]
     },
     "execution_count": 51,
     "metadata": {},
     "output_type": "execute_result"
    }
   ],
   "source": [
    "data"
   ]
  },
  {
   "cell_type": "code",
   "execution_count": 52,
   "id": "78f491a1",
   "metadata": {},
   "outputs": [
    {
     "data": {
      "text/plain": [
       "array([ True, False, False,  True, False, False, False])"
      ]
     },
     "execution_count": 52,
     "metadata": {},
     "output_type": "execute_result"
    }
   ],
   "source": [
    "names == \"Bob\""
   ]
  },
  {
   "cell_type": "code",
   "execution_count": 53,
   "id": "e0bc551e",
   "metadata": {},
   "outputs": [
    {
     "data": {
      "text/plain": [
       "array([[4, 7],\n",
       "       [0, 0]])"
      ]
     },
     "execution_count": 53,
     "metadata": {},
     "output_type": "execute_result"
    }
   ],
   "source": [
    "data[names == \"Bob\"]"
   ]
  },
  {
   "cell_type": "code",
   "execution_count": 54,
   "id": "15c6f3c3",
   "metadata": {},
   "outputs": [],
   "source": [
    "import numpy as np"
   ]
  },
  {
   "cell_type": "code",
   "execution_count": 55,
   "id": "5489a9e5",
   "metadata": {},
   "outputs": [
    {
     "name": "stdout",
     "output_type": "stream",
     "text": [
      "1 1 2 3 5 8 13 21 34 55 89 144 233 377 610 987 1597 2584 4181 6765 10946 17711 28657 46368 75025 121393 196418 317811 514229 832040 1346269 "
     ]
    }
   ],
   "source": [
    "a, b = 0, 1\n",
    "while b < 2000000:\n",
    "    print(b, end=' ')\n",
    "    a, b = b, a+b"
   ]
  },
  {
   "cell_type": "code",
   "execution_count": 56,
   "id": "feab4392",
   "metadata": {},
   "outputs": [
    {
     "data": {
      "text/plain": [
       "array(['Bob', 'Joe', 'Will', 'Bob', 'Will', 'Joe', 'Joe'], dtype='<U4')"
      ]
     },
     "execution_count": 56,
     "metadata": {},
     "output_type": "execute_result"
    }
   ],
   "source": [
    "names"
   ]
  },
  {
   "cell_type": "code",
   "execution_count": 57,
   "id": "8b878bca",
   "metadata": {},
   "outputs": [
    {
     "data": {
      "text/plain": [
       "array([[  4,   7],\n",
       "       [  0,   2],\n",
       "       [ -5,   6],\n",
       "       [  0,   0],\n",
       "       [  1,   2],\n",
       "       [-12,  -4],\n",
       "       [  3,   4]])"
      ]
     },
     "execution_count": 57,
     "metadata": {},
     "output_type": "execute_result"
    }
   ],
   "source": [
    "data"
   ]
  },
  {
   "cell_type": "code",
   "execution_count": 58,
   "id": "4587c177",
   "metadata": {},
   "outputs": [
    {
     "name": "stdout",
     "output_type": "stream",
     "text": [
      "2178309 3524578 5702887 9227465 14930352 "
     ]
    }
   ],
   "source": [
    "a, b = 1346269, 2178309\n",
    "while b < 20000000:\n",
    "    print(b, end=' ')\n",
    "    a, b = b, a+b"
   ]
  },
  {
   "cell_type": "code",
   "execution_count": 59,
   "id": "aa3f88ad",
   "metadata": {},
   "outputs": [
    {
     "name": "stdout",
     "output_type": "stream",
     "text": [
      "0.036324857388994825\n"
     ]
    }
   ],
   "source": [
    "new_random_number = np.random.rand()\n",
    "print(new_random_number)"
   ]
  },
  {
   "cell_type": "code",
   "execution_count": 60,
   "id": "38606170",
   "metadata": {},
   "outputs": [
    {
     "name": "stdout",
     "output_type": "stream",
     "text": [
      "                      APELLIDO Y NOMBRE  \\\n",
      "0                ACOSTA, HUGO SABASTIAN   \n",
      "1                     GIACHELLO, DAMIAN   \n",
      "2                     FERNANDEZ, ALVARO   \n",
      "3               GUZMÁN, RICARDO MARCELO   \n",
      "4               GRESS, JONATHAN ALBERTO   \n",
      "...                                 ...   \n",
      "35350              REARTE, LUIS RODRIGO   \n",
      "35351              RAUTA, FABIAN HECTOR   \n",
      "35352               PARDO, LUIS ALBERTO   \n",
      "35353            GONZALEZ, JUAN EMANUEL   \n",
      "35354  GALARZA, CRISTIAN RAMIRO JOAQUIN   \n",
      "\n",
      "                                    Columna2       FUNCIÓN Columna1  \\\n",
      "0                ACOSTA, HUGO SABASTIAN45443   TECNICO HyS      NaN   \n",
      "1                     GIACHELLO, DAMIAN45443  JEFE DE OBRA      NaN   \n",
      "2                     FERNANDEZ, ALVARO45443     INGENIERO      NaN   \n",
      "3               GUZMÁN, RICARDO MARCELO45443       OFICIAL      NaN   \n",
      "4               GRESS, JONATHAN ALBERTO45443      OFICINAL      NaN   \n",
      "...                                      ...           ...      ...   \n",
      "35350              REARTE, LUIS RODRIGO45626           NaN      NaN   \n",
      "35351              RAUTA, FABIAN HECTOR45626           NaN      NaN   \n",
      "35352               PARDO, LUIS ALBERTO45626           NaN      NaN   \n",
      "35353            GONZALEZ, JUAN EMANUEL45626           NaN      NaN   \n",
      "35354  GALARZA, CRISTIAN RAMIRO JOAQUIN45626           NaN      NaN   \n",
      "\n",
      "                  SECTOR    HR      FECHA  Unnamed: 7  Unnamed: 8  Unnamed: 9  \\\n",
      "0                    NaN   5.0 2024-05-31         NaN         NaN         NaN   \n",
      "1                    NaN   4.0 2024-05-31         NaN         NaN         NaN   \n",
      "2      MED. RESISTIVIDAD  10.0 2024-05-31         NaN         NaN         NaN   \n",
      "3       DETECCIÓN INTERF  10.0 2024-05-31         NaN         NaN         NaN   \n",
      "4      LIMPIEZA  TERRENO  10.0 2024-05-31         NaN         NaN         NaN   \n",
      "...                  ...   ...        ...         ...         ...         ...   \n",
      "35350                NaN  10.0 2024-11-30         NaN         NaN         NaN   \n",
      "35351                NaN  10.0 2024-11-30         NaN         NaN         NaN   \n",
      "35352                NaN  10.0 2024-11-30         NaN         NaN         NaN   \n",
      "35353                NaN   NaN 2024-11-30         NaN         NaN         NaN   \n",
      "35354                NaN  10.0 2024-11-30         NaN         NaN         NaN   \n",
      "\n",
      "       Unnamed: 10  Unnamed: 11 Unnamed: 12  \n",
      "0              NaN          NaN         NaN  \n",
      "1              NaN          NaN         NaN  \n",
      "2              NaN          NaN         NaN  \n",
      "3              NaN          NaN         NaN  \n",
      "4              NaN          NaN         NaN  \n",
      "...            ...          ...         ...  \n",
      "35350          NaN          NaN         NaN  \n",
      "35351          NaN          NaN         NaN  \n",
      "35352          NaN          NaN         NaN  \n",
      "35353          NaN          NaN         NaN  \n",
      "35354          NaN          NaN         NaN  \n",
      "\n",
      "[35355 rows x 13 columns]\n"
     ]
    }
   ],
   "source": [
    "import pandas as pd\n",
    "\n",
    "# Read the Excel file\n",
    "df_excel = pd.read_excel('BDPT.xlsx')\n",
    "\n",
    "# Display the dataframe\n",
    "print(df_excel)"
   ]
  },
  {
   "cell_type": "code",
   "execution_count": 61,
   "id": "d1c9ab97",
   "metadata": {},
   "outputs": [
    {
     "data": {
      "text/html": [
       "<div>\n",
       "<style scoped>\n",
       "    .dataframe tbody tr th:only-of-type {\n",
       "        vertical-align: middle;\n",
       "    }\n",
       "\n",
       "    .dataframe tbody tr th {\n",
       "        vertical-align: top;\n",
       "    }\n",
       "\n",
       "    .dataframe thead th {\n",
       "        text-align: right;\n",
       "    }\n",
       "</style>\n",
       "<table border=\"1\" class=\"dataframe\">\n",
       "  <thead>\n",
       "    <tr style=\"text-align: right;\">\n",
       "      <th></th>\n",
       "      <th>APELLIDO Y NOMBRE</th>\n",
       "      <th>Columna2</th>\n",
       "      <th>FUNCIÓN</th>\n",
       "      <th>Columna1</th>\n",
       "      <th>SECTOR</th>\n",
       "      <th>HR</th>\n",
       "      <th>FECHA</th>\n",
       "      <th>Unnamed: 7</th>\n",
       "      <th>Unnamed: 8</th>\n",
       "      <th>Unnamed: 9</th>\n",
       "      <th>Unnamed: 10</th>\n",
       "      <th>Unnamed: 11</th>\n",
       "      <th>Unnamed: 12</th>\n",
       "    </tr>\n",
       "  </thead>\n",
       "  <tbody>\n",
       "    <tr>\n",
       "      <th>0</th>\n",
       "      <td>ACOSTA, HUGO SABASTIAN</td>\n",
       "      <td>ACOSTA, HUGO SABASTIAN45443</td>\n",
       "      <td>TECNICO HyS</td>\n",
       "      <td>NaN</td>\n",
       "      <td>NaN</td>\n",
       "      <td>5.0</td>\n",
       "      <td>2024-05-31</td>\n",
       "      <td>NaN</td>\n",
       "      <td>NaN</td>\n",
       "      <td>NaN</td>\n",
       "      <td>NaN</td>\n",
       "      <td>NaN</td>\n",
       "      <td>NaN</td>\n",
       "    </tr>\n",
       "    <tr>\n",
       "      <th>1</th>\n",
       "      <td>GIACHELLO, DAMIAN</td>\n",
       "      <td>GIACHELLO, DAMIAN45443</td>\n",
       "      <td>JEFE DE OBRA</td>\n",
       "      <td>NaN</td>\n",
       "      <td>NaN</td>\n",
       "      <td>4.0</td>\n",
       "      <td>2024-05-31</td>\n",
       "      <td>NaN</td>\n",
       "      <td>NaN</td>\n",
       "      <td>NaN</td>\n",
       "      <td>NaN</td>\n",
       "      <td>NaN</td>\n",
       "      <td>NaN</td>\n",
       "    </tr>\n",
       "    <tr>\n",
       "      <th>2</th>\n",
       "      <td>FERNANDEZ, ALVARO</td>\n",
       "      <td>FERNANDEZ, ALVARO45443</td>\n",
       "      <td>INGENIERO</td>\n",
       "      <td>NaN</td>\n",
       "      <td>MED. RESISTIVIDAD</td>\n",
       "      <td>10.0</td>\n",
       "      <td>2024-05-31</td>\n",
       "      <td>NaN</td>\n",
       "      <td>NaN</td>\n",
       "      <td>NaN</td>\n",
       "      <td>NaN</td>\n",
       "      <td>NaN</td>\n",
       "      <td>NaN</td>\n",
       "    </tr>\n",
       "    <tr>\n",
       "      <th>3</th>\n",
       "      <td>GUZMÁN, RICARDO MARCELO</td>\n",
       "      <td>GUZMÁN, RICARDO MARCELO45443</td>\n",
       "      <td>OFICIAL</td>\n",
       "      <td>NaN</td>\n",
       "      <td>DETECCIÓN INTERF</td>\n",
       "      <td>10.0</td>\n",
       "      <td>2024-05-31</td>\n",
       "      <td>NaN</td>\n",
       "      <td>NaN</td>\n",
       "      <td>NaN</td>\n",
       "      <td>NaN</td>\n",
       "      <td>NaN</td>\n",
       "      <td>NaN</td>\n",
       "    </tr>\n",
       "    <tr>\n",
       "      <th>4</th>\n",
       "      <td>GRESS, JONATHAN ALBERTO</td>\n",
       "      <td>GRESS, JONATHAN ALBERTO45443</td>\n",
       "      <td>OFICINAL</td>\n",
       "      <td>NaN</td>\n",
       "      <td>LIMPIEZA  TERRENO</td>\n",
       "      <td>10.0</td>\n",
       "      <td>2024-05-31</td>\n",
       "      <td>NaN</td>\n",
       "      <td>NaN</td>\n",
       "      <td>NaN</td>\n",
       "      <td>NaN</td>\n",
       "      <td>NaN</td>\n",
       "      <td>NaN</td>\n",
       "    </tr>\n",
       "  </tbody>\n",
       "</table>\n",
       "</div>"
      ],
      "text/plain": [
       "         APELLIDO Y NOMBRE                      Columna2       FUNCIÓN  \\\n",
       "0   ACOSTA, HUGO SABASTIAN   ACOSTA, HUGO SABASTIAN45443   TECNICO HyS   \n",
       "1        GIACHELLO, DAMIAN        GIACHELLO, DAMIAN45443  JEFE DE OBRA   \n",
       "2        FERNANDEZ, ALVARO        FERNANDEZ, ALVARO45443     INGENIERO   \n",
       "3  GUZMÁN, RICARDO MARCELO  GUZMÁN, RICARDO MARCELO45443       OFICIAL   \n",
       "4  GRESS, JONATHAN ALBERTO  GRESS, JONATHAN ALBERTO45443      OFICINAL   \n",
       "\n",
       "  Columna1             SECTOR    HR      FECHA  Unnamed: 7  Unnamed: 8  \\\n",
       "0      NaN                NaN   5.0 2024-05-31         NaN         NaN   \n",
       "1      NaN                NaN   4.0 2024-05-31         NaN         NaN   \n",
       "2      NaN  MED. RESISTIVIDAD  10.0 2024-05-31         NaN         NaN   \n",
       "3      NaN   DETECCIÓN INTERF  10.0 2024-05-31         NaN         NaN   \n",
       "4      NaN  LIMPIEZA  TERRENO  10.0 2024-05-31         NaN         NaN   \n",
       "\n",
       "   Unnamed: 9  Unnamed: 10  Unnamed: 11 Unnamed: 12  \n",
       "0         NaN          NaN          NaN         NaN  \n",
       "1         NaN          NaN          NaN         NaN  \n",
       "2         NaN          NaN          NaN         NaN  \n",
       "3         NaN          NaN          NaN         NaN  \n",
       "4         NaN          NaN          NaN         NaN  "
      ]
     },
     "execution_count": 61,
     "metadata": {},
     "output_type": "execute_result"
    }
   ],
   "source": [
    "df_excel.head()"
   ]
  },
  {
   "cell_type": "code",
   "execution_count": 62,
   "id": "0febdcb3",
   "metadata": {},
   "outputs": [
    {
     "data": {
      "text/html": [
       "<div>\n",
       "<style scoped>\n",
       "    .dataframe tbody tr th:only-of-type {\n",
       "        vertical-align: middle;\n",
       "    }\n",
       "\n",
       "    .dataframe tbody tr th {\n",
       "        vertical-align: top;\n",
       "    }\n",
       "\n",
       "    .dataframe thead th {\n",
       "        text-align: right;\n",
       "    }\n",
       "</style>\n",
       "<table border=\"1\" class=\"dataframe\">\n",
       "  <thead>\n",
       "    <tr style=\"text-align: right;\">\n",
       "      <th></th>\n",
       "      <th>APELLIDO Y NOMBRE</th>\n",
       "      <th>Columna2</th>\n",
       "      <th>FUNCIÓN</th>\n",
       "      <th>Columna1</th>\n",
       "      <th>SECTOR</th>\n",
       "      <th>HR</th>\n",
       "      <th>FECHA</th>\n",
       "      <th>Unnamed: 7</th>\n",
       "      <th>Unnamed: 8</th>\n",
       "      <th>Unnamed: 9</th>\n",
       "      <th>Unnamed: 10</th>\n",
       "      <th>Unnamed: 11</th>\n",
       "      <th>Unnamed: 12</th>\n",
       "    </tr>\n",
       "  </thead>\n",
       "  <tbody>\n",
       "    <tr>\n",
       "      <th>35350</th>\n",
       "      <td>REARTE, LUIS RODRIGO</td>\n",
       "      <td>REARTE, LUIS RODRIGO45626</td>\n",
       "      <td>NaN</td>\n",
       "      <td>NaN</td>\n",
       "      <td>NaN</td>\n",
       "      <td>10.0</td>\n",
       "      <td>2024-11-30</td>\n",
       "      <td>NaN</td>\n",
       "      <td>NaN</td>\n",
       "      <td>NaN</td>\n",
       "      <td>NaN</td>\n",
       "      <td>NaN</td>\n",
       "      <td>NaN</td>\n",
       "    </tr>\n",
       "    <tr>\n",
       "      <th>35351</th>\n",
       "      <td>RAUTA, FABIAN HECTOR</td>\n",
       "      <td>RAUTA, FABIAN HECTOR45626</td>\n",
       "      <td>NaN</td>\n",
       "      <td>NaN</td>\n",
       "      <td>NaN</td>\n",
       "      <td>10.0</td>\n",
       "      <td>2024-11-30</td>\n",
       "      <td>NaN</td>\n",
       "      <td>NaN</td>\n",
       "      <td>NaN</td>\n",
       "      <td>NaN</td>\n",
       "      <td>NaN</td>\n",
       "      <td>NaN</td>\n",
       "    </tr>\n",
       "    <tr>\n",
       "      <th>35352</th>\n",
       "      <td>PARDO, LUIS ALBERTO</td>\n",
       "      <td>PARDO, LUIS ALBERTO45626</td>\n",
       "      <td>NaN</td>\n",
       "      <td>NaN</td>\n",
       "      <td>NaN</td>\n",
       "      <td>10.0</td>\n",
       "      <td>2024-11-30</td>\n",
       "      <td>NaN</td>\n",
       "      <td>NaN</td>\n",
       "      <td>NaN</td>\n",
       "      <td>NaN</td>\n",
       "      <td>NaN</td>\n",
       "      <td>NaN</td>\n",
       "    </tr>\n",
       "    <tr>\n",
       "      <th>35353</th>\n",
       "      <td>GONZALEZ, JUAN EMANUEL</td>\n",
       "      <td>GONZALEZ, JUAN EMANUEL45626</td>\n",
       "      <td>NaN</td>\n",
       "      <td>NaN</td>\n",
       "      <td>NaN</td>\n",
       "      <td>NaN</td>\n",
       "      <td>2024-11-30</td>\n",
       "      <td>NaN</td>\n",
       "      <td>NaN</td>\n",
       "      <td>NaN</td>\n",
       "      <td>NaN</td>\n",
       "      <td>NaN</td>\n",
       "      <td>NaN</td>\n",
       "    </tr>\n",
       "    <tr>\n",
       "      <th>35354</th>\n",
       "      <td>GALARZA, CRISTIAN RAMIRO JOAQUIN</td>\n",
       "      <td>GALARZA, CRISTIAN RAMIRO JOAQUIN45626</td>\n",
       "      <td>NaN</td>\n",
       "      <td>NaN</td>\n",
       "      <td>NaN</td>\n",
       "      <td>10.0</td>\n",
       "      <td>2024-11-30</td>\n",
       "      <td>NaN</td>\n",
       "      <td>NaN</td>\n",
       "      <td>NaN</td>\n",
       "      <td>NaN</td>\n",
       "      <td>NaN</td>\n",
       "      <td>NaN</td>\n",
       "    </tr>\n",
       "  </tbody>\n",
       "</table>\n",
       "</div>"
      ],
      "text/plain": [
       "                      APELLIDO Y NOMBRE  \\\n",
       "35350              REARTE, LUIS RODRIGO   \n",
       "35351              RAUTA, FABIAN HECTOR   \n",
       "35352               PARDO, LUIS ALBERTO   \n",
       "35353            GONZALEZ, JUAN EMANUEL   \n",
       "35354  GALARZA, CRISTIAN RAMIRO JOAQUIN   \n",
       "\n",
       "                                    Columna2 FUNCIÓN Columna1 SECTOR    HR  \\\n",
       "35350              REARTE, LUIS RODRIGO45626     NaN      NaN    NaN  10.0   \n",
       "35351              RAUTA, FABIAN HECTOR45626     NaN      NaN    NaN  10.0   \n",
       "35352               PARDO, LUIS ALBERTO45626     NaN      NaN    NaN  10.0   \n",
       "35353            GONZALEZ, JUAN EMANUEL45626     NaN      NaN    NaN   NaN   \n",
       "35354  GALARZA, CRISTIAN RAMIRO JOAQUIN45626     NaN      NaN    NaN  10.0   \n",
       "\n",
       "           FECHA  Unnamed: 7  Unnamed: 8  Unnamed: 9  Unnamed: 10  \\\n",
       "35350 2024-11-30         NaN         NaN         NaN          NaN   \n",
       "35351 2024-11-30         NaN         NaN         NaN          NaN   \n",
       "35352 2024-11-30         NaN         NaN         NaN          NaN   \n",
       "35353 2024-11-30         NaN         NaN         NaN          NaN   \n",
       "35354 2024-11-30         NaN         NaN         NaN          NaN   \n",
       "\n",
       "       Unnamed: 11 Unnamed: 12  \n",
       "35350          NaN         NaN  \n",
       "35351          NaN         NaN  \n",
       "35352          NaN         NaN  \n",
       "35353          NaN         NaN  \n",
       "35354          NaN         NaN  "
      ]
     },
     "execution_count": 62,
     "metadata": {},
     "output_type": "execute_result"
    }
   ],
   "source": [
    "df_excel.tail()"
   ]
  },
  {
   "cell_type": "code",
   "execution_count": null,
   "id": "ec508185",
   "metadata": {},
   "outputs": [],
   "source": []
  }
 ],
 "metadata": {
  "kernelspec": {
   "display_name": "pydata-book",
   "language": "python",
   "name": "python3"
  },
  "language_info": {
   "codemirror_mode": {
    "name": "ipython",
    "version": 3
   },
   "file_extension": ".py",
   "mimetype": "text/x-python",
   "name": "python",
   "nbconvert_exporter": "python",
   "pygments_lexer": "ipython3",
   "version": "3.12.3"
  }
 },
 "nbformat": 4,
 "nbformat_minor": 5
}
